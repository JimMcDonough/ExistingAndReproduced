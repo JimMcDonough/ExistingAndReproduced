{
 "cells": [
  {
   "cell_type": "code",
   "execution_count": 1,
   "id": "5fd96e3c",
   "metadata": {},
   "outputs": [],
   "source": [
    "#From Oreilly \n",
    "#https://www.oreilly.com/content/question-answering-with-tensorflow/"
   ]
  },
  {
   "cell_type": "code",
   "execution_count": 2,
   "id": "cdda661f",
   "metadata": {},
   "outputs": [],
   "source": [
    "%matplotlib inline\n",
    "\n",
    "import tensorflow as tf\n",
    "import numpy as np\n",
    "import matplotlib.pyplot as plt\n",
    "import matplotlib.ticker as ticker\n",
    "import urllib\n",
    "import sys\n",
    "import os\n",
    "import zipfile\n",
    "import tarfile\n",
    "import json \n",
    "import hashlib\n",
    "import re\n",
    "import itertools"
   ]
  },
  {
   "cell_type": "code",
   "execution_count": 3,
   "id": "a1026625",
   "metadata": {},
   "outputs": [],
   "source": [
    "glove_zip_file = r\"C:\\Users\\jimmc\\Documents\\UCSD_Bootcamp\\oreilly_QandA_example\\glove.6B.zip\"\n",
    "#glove_vectors_file = r\"C:\\Users\\jimmc\\Documents\\UCSD_Bootcamp\\oreilly_QandA_example\\glove.6B.50d.txt\"\n",
    "glove_vectors_file = r\"glove.6B.50d.txt\"  #either way works; if this is used the file gets exttracted from above zip\n",
    "\n",
    "data_set_zip = r\"C:\\Users\\jimmc\\Documents\\UCSD_Bootcamp\\oreilly_QandA_example\\tasks_1-20_v1-2.tar.gz\"\n",
    "\n",
    "#Select \"task 5\"\n",
    "train_set_file = \"qa5_three-arg-relations_train.txt\"\n",
    "test_set_file = \"qa5_three-arg-relations_test.txt\"\n",
    "\n",
    "train_set_post_file = \"tasks_1-20_v1-2/en/\"+train_set_file\n",
    "test_set_post_file = \"tasks_1-20_v1-2/en/\"+test_set_file"
   ]
  },
  {
   "cell_type": "code",
   "execution_count": 4,
   "id": "b8659d8a",
   "metadata": {},
   "outputs": [],
   "source": [
    "try: from urllib.request import urlretrieve, urlopen\n",
    "except ImportError: \n",
    "    from urllib import urlretrieve\n",
    "    from urllib2 import urlopen"
   ]
  },
  {
   "cell_type": "code",
   "execution_count": 5,
   "id": "c3a6956c",
   "metadata": {},
   "outputs": [],
   "source": [
    "#large file - 862 MB\n",
    "if (not os.path.isfile(glove_zip_file) and\n",
    "    not os.path.isfile(glove_vectors_file)):\n",
    "    urlretrieve (\"http://nlp.stanford.edu/data/glove.6B.zip\", \n",
    "                 glove_zip_file)\n",
    "if (not os.path.isfile(data_set_zip) and\n",
    "    not (os.path.isfile(train_set_file) and os.path.isfile(test_set_file))):\n",
    "    urlretrieve (\"https://s3.amazonaws.com/text-datasets/babi_tasks_1-20_v1-2.tar.gz\", \n",
    "                 data_set_zip)"
   ]
  },
  {
   "cell_type": "code",
   "execution_count": 6,
   "id": "854d835c",
   "metadata": {},
   "outputs": [],
   "source": [
    "def unzip_single_file(zip_file_name, output_file_name):\n",
    "    \"\"\"\n",
    "        If the output file is already created, don't recreate\n",
    "        If the output file does not exist, create it from the zipFile\n",
    "    \"\"\"\n",
    "    if not os.path.isfile(output_file_name):\n",
    "        with open(output_file_name, 'wb') as out_file:\n",
    "            with zipfile.ZipFile(zip_file_name) as zipped:\n",
    "                for info in zipped.infolist():\n",
    "                    if output_file_name in info.filename:\n",
    "                        with zipped.open(info) as requested_file:\n",
    "                            out_file.write(requested_file.read())\n",
    "                            return\n",
    "                        \n",
    "def targz_unzip_single_file(zip_file_name, output_file_name, interior_relative_path):\n",
    "    if not os.path.isfile(output_file_name):\n",
    "        with tarfile.open(zip_file_name) as un_zipped:\n",
    "            un_zipped.extract(interior_relative_path+output_file_name)\n",
    "\n",
    "unzip_single_file(glove_zip_file, glove_vectors_file)\n",
    "targz_unzip_single_file(data_set_zip, train_set_file, \"tasks_1-20_v1-2/en/\")\n",
    "targz_unzip_single_file(data_set_zip, test_set_file, \"tasks_1-20_v1-2/en/\")"
   ]
  },
  {
   "cell_type": "code",
   "execution_count": 7,
   "id": "86376bb2",
   "metadata": {},
   "outputs": [],
   "source": [
    "#Common practice is to replace all unknown tokens with a single <UNK> vector, but this isn’t always effective. \n",
    "#Instead, we can use randomization to draw a new vectorization for each unique unknown token.\n",
    "\n",
    "#The first time we run across a new unknown token, we simply draw a new vectorization from the (Gaussian-approximated) \n",
    "#distribution of the original GloVe vectorizations, and add that vectorization back to the GloVe word map. \n",
    "#To gather the distribution hyperparameters, Numpy has functions that automatically calculate variance and mean.\n",
    "#fill_unk will take care of giving us a new word vectorization whenever we need one."
   ]
  },
  {
   "cell_type": "code",
   "execution_count": 8,
   "id": "60b200fa",
   "metadata": {},
   "outputs": [],
   "source": [
    "# Deserialize GloVe vectors\n",
    "glove_wordmap = {}\n",
    "with open(glove_vectors_file, \"r\", encoding=\"utf8\") as glove:\n",
    "    for line in glove:\n",
    "        name, vector = tuple(line.split(\" \", 1))  #split on first space\n",
    "        glove_wordmap[name] = np.fromstring(vector, sep=\" \")   #turn string into vector; spaces split the dimensions"
   ]
  },
  {
   "cell_type": "code",
   "execution_count": null,
   "id": "4df4027a",
   "metadata": {},
   "outputs": [],
   "source": []
  },
  {
   "cell_type": "code",
   "execution_count": 9,
   "id": "be309e29",
   "metadata": {},
   "outputs": [],
   "source": [
    "wvecs = []\n",
    "for item in glove_wordmap.items():\n",
    "    wvecs.append(item[1])\n",
    "s = np.vstack(wvecs)\n",
    "\n",
    "# Gather the distribution hyperparameters\n",
    "v = np.var(s,0) \n",
    "m = np.mean(s,0) \n",
    "RS = np.random.RandomState()\n",
    "\n",
    "def fill_unk(unk):\n",
    "    global glove_wordmap\n",
    "    glove_wordmap[unk] = RS.multivariate_normal(m,np.diag(v))\n",
    "    return glove_wordmap[unk]"
   ]
  },
  {
   "cell_type": "code",
   "execution_count": 10,
   "id": "af420e08",
   "metadata": {},
   "outputs": [],
   "source": [
    "#The limited vocabulary of bAbI tasks means the network can learn the relationships between words even without knowing \n",
    "#what the words mean. However, for speed of learning, we should choose vectorizations that have inherent meaning when \n",
    "#we can. To do this, we use a greedy search for words that exist in Stanford’s GLoVe word vectorization data set, and \n",
    "#if the word does not exist, then we fill in the entire word with an unknown, randomly created, new representation.\n",
    "\n",
    "#Under that model of word vectorization, we can define a new sentence2sequence:"
   ]
  },
  {
   "cell_type": "code",
   "execution_count": 11,
   "id": "3ad2b32b",
   "metadata": {},
   "outputs": [],
   "source": [
    "def sentence2sequence(sentence):\n",
    "    \"\"\"\n",
    "\n",
    "    - Turns an input paragraph into an (m,d) matrix, \n",
    "        where n(i think this is m) is the number of tokens in the sentence\n",
    "        and d is the number of dimensions each word vector has.\n",
    "\n",
    "      TensorFlow doesn't need to be used here, as simply\n",
    "      turning the sentence into a sequence based off our \n",
    "      mapping does not need the computational power that\n",
    "      TensorFlow provides. Normal Python suffices for this task.\n",
    "    \"\"\"\n",
    "    tokens = sentence.strip('\"(),-').lower().split(\" \")\n",
    "    rows = []\n",
    "    words = []\n",
    "    #Greedy search for tokens\n",
    "    for token in tokens:\n",
    "        i = len(token)\n",
    "        while len(token) > 0:      #search token and remove characters until none; then create randomized vector for unknown\n",
    "            word = token[:i]\n",
    "            if word in glove_wordmap:\n",
    "                rows.append(glove_wordmap[word])  #append vector from GloVe\n",
    "                words.append(word)   \n",
    "                token = token[i:]\n",
    "                i = len(token)\n",
    "                continue\n",
    "            else:\n",
    "                i = i-1\n",
    "            if i == 0:\n",
    "                # word OOV\n",
    "                # https://arxiv.org/pdf/1611.01436.pdf\n",
    "                rows.append(fill_unk(token))       #randomize vector for unknown word\n",
    "                words.append(token)\n",
    "                break\n",
    "    return np.array(rows), words"
   ]
  },
  {
   "cell_type": "markdown",
   "id": "89bd57a6",
   "metadata": {},
   "source": [
    "Now we can package all the data together needed for each question, including the vectorization of the contexts, questions, and answers. In bAbI, contexts are defined by a numbered sequence of sentences, which contextualize deserializes into a list of sentences associated with one context. Questions and answers are on the same line, separated by tabs, so we can use tabs as a marker of whether a specific line refers to a question or not. When the numbering resets, future questions will refer to the new context (note that often there is more than one question corresponding to a single context). Answers also contain one other piece of information that we keep but don’t need to use: the number(s) corresponding to the sentences needed to answer the question, in the reference order. In our system, the network will teach itself which sentences are needed to answer the question."
   ]
  },
  {
   "cell_type": "code",
   "execution_count": 12,
   "id": "4b3d0633",
   "metadata": {},
   "outputs": [
    {
     "name": "stderr",
     "output_type": "stream",
     "text": [
      "<>:19: SyntaxWarning: \"is\" with a literal. Did you mean \"==\"?\n",
      "<>:19: SyntaxWarning: \"is\" with a literal. Did you mean \"==\"?\n",
      "C:\\Users\\jimmc\\AppData\\Local\\Temp\\ipykernel_19188\\2877034966.py:19: SyntaxWarning: \"is\" with a literal. Did you mean \"==\"?\n",
      "  if l is \"1\":\n"
     ]
    }
   ],
   "source": [
    "def contextualize(set_file):\n",
    "    \"\"\"\n",
    "    Read in the dataset of questions and build question+answer -> context sets.\n",
    "    Output is a list of data points, each of which is a 7-element tuple containing:\n",
    "        The sentences in the context in vectorized form.\n",
    "        The sentences in the context as a list of string tokens.\n",
    "        The question in vectorized form.\n",
    "        The question as a list of string tokens.\n",
    "        The answer in vectorized form.\n",
    "        The answer as a list of string tokens.\n",
    "        A list of numbers for supporting statements, which is currently unused.\n",
    "    \"\"\"\n",
    "    data = []\n",
    "    context = []\n",
    "    with open(set_file, \"r\", encoding=\"utf8\") as train:\n",
    "        for line in train:\n",
    "            l, ine = tuple(line.split(\" \", 1))\n",
    "            # Split the line numbers from the sentences they refer to.\n",
    "            if l is \"1\":\n",
    "                # New contexts always start with 1, \n",
    "                # so this is a signal to reset the context.\n",
    "                context = []\n",
    "            if \"\\t\" in ine: \n",
    "                # Tabs are the separator between questions and answers,\n",
    "                # and are not present in context statements.\n",
    "                question, answer, support = tuple(ine.split(\"\\t\"))\n",
    "                data.append((tuple(zip(*context))+\n",
    "                             sentence2sequence(question)+\n",
    "                             sentence2sequence(answer)+\n",
    "                             ([int(s) for s in support.split()],)))\n",
    "                # Multiple questions may refer to the same context, so we don't reset it.\n",
    "            else:\n",
    "                # Context sentence.\n",
    "                context.append(sentence2sequence(ine[:-1]))\n",
    "    return data\n",
    "train_data = contextualize(train_set_post_file)\n",
    "test_data = contextualize(test_set_post_file)"
   ]
  },
  {
   "cell_type": "code",
   "execution_count": 13,
   "id": "3eeb3e35",
   "metadata": {},
   "outputs": [],
   "source": [
    "#train_data[0][0]  #use to explore the processed data"
   ]
  },
  {
   "cell_type": "code",
   "execution_count": 14,
   "id": "7dd94818",
   "metadata": {},
   "outputs": [],
   "source": [
    "#np.concatenate(train_data[0][0])"
   ]
  },
  {
   "cell_type": "markdown",
   "id": "2a8cd9ab",
   "metadata": {},
   "source": [
    "accumulate()\n",
    "itertools.accumulate(iterable[, func])\n",
    "This function makes an iterator that returns the results of a function. Functions can be passed around very much like variables. The accumulate() function takes a function as an argument. It also takes an iterable. It returns the accumulated results. The results are themselves contained in an iterable. This may all sound very confusing. I assure you that, when you play with the code it will make sense."
   ]
  },
  {
   "cell_type": "markdown",
   "id": "6b81341c",
   "metadata": {},
   "source": [
    "lengths = itertools.accumulate(len(cvec) for cvec in train_data[0][0])\n",
    "for l in lengths:\n",
    "    print(l)"
   ]
  },
  {
   "cell_type": "code",
   "execution_count": 15,
   "id": "21cbf0ca",
   "metadata": {},
   "outputs": [],
   "source": [
    "#train_data[0][1]"
   ]
  },
  {
   "cell_type": "markdown",
   "id": "eb79dbe7",
   "metadata": {},
   "source": [
    "context_words = sum(train_data[0][1],[])\n",
    "print(context_words)"
   ]
  },
  {
   "cell_type": "code",
   "execution_count": 16,
   "id": "627e0f82",
   "metadata": {},
   "outputs": [
    {
     "name": "stderr",
     "output_type": "stream",
     "text": [
      "C:\\Users\\jimmc\\AppData\\Local\\Temp\\ipykernel_19188\\3347106528.py:17: VisibleDeprecationWarning: Creating an ndarray from ragged nested sequences (which is a list-or-tuple of lists-or-tuples-or ndarrays with different lengths or shapes) is deprecated. If you meant to do this, you must specify 'dtype=object' when creating the ndarray.\n",
      "  return np.array(final_data)\n"
     ]
    }
   ],
   "source": [
    "final_train_data = []\n",
    "def finalize(data):\n",
    "    \"\"\"\n",
    "    Prepares data generated by contextualize() for use in the network.\n",
    "    \"\"\"\n",
    "    final_data = []\n",
    "    for cqas in train_data:\n",
    "        contextvs, contextws, qvs, qws, avs, aws, spt = cqas\n",
    "\n",
    "        lengths = itertools.accumulate(len(cvec) for cvec in contextvs)   #needed to keep track of end of sentences\n",
    "        context_vec = np.concatenate(contextvs)   #combine all arrays for the sentences\n",
    "        context_words = sum(contextws,[])  #turns sentence token lists into one list of all tokens\n",
    "\n",
    "        # Location markers for the beginnings of new sentences.\n",
    "        sentence_ends = np.array(list(lengths))       \n",
    "        final_data.append((context_vec, sentence_ends, qvs, spt, context_words, cqas, avs, aws))\n",
    "    return np.array(final_data)\n",
    "final_train_data = finalize(train_data)   \n",
    "final_test_data = finalize(test_data)"
   ]
  },
  {
   "cell_type": "markdown",
   "id": "e13137b0",
   "metadata": {},
   "source": [
    "At this point, we have fully prepared our training data and our testing data. The next task is to construct the network we’ll use to understand the data. Let’s start by clearing out the TensorFlow default graph so we always have the option to run the network again if we want to change something."
   ]
  },
  {
   "cell_type": "code",
   "execution_count": 17,
   "id": "a6c42427",
   "metadata": {},
   "outputs": [
    {
     "name": "stdout",
     "output_type": "stream",
     "text": [
      "WARNING:tensorflow:From C:\\Users\\jimmc\\Documents\\UCSD_Bootcamp\\oreilly_QandA_example\\.env\\lib\\site-packages\\tensorflow\\python\\compat\\v2_compat.py:107: disable_resource_variables (from tensorflow.python.ops.variable_scope) is deprecated and will be removed in a future version.\n",
      "Instructions for updating:\n",
      "non-resource variables are not supported in the long term\n"
     ]
    }
   ],
   "source": [
    "import tensorflow.compat.v1 as tf\n",
    "tf.disable_v2_behavior()"
   ]
  },
  {
   "cell_type": "code",
   "execution_count": 18,
   "id": "45dc4e3f",
   "metadata": {},
   "outputs": [],
   "source": [
    "tf.reset_default_graph()   #the above import and disable allowed to run;  I believe its a version 1 to version 2 error"
   ]
  },
  {
   "cell_type": "markdown",
   "id": "6cd130d2",
   "metadata": {},
   "source": [
    "Since this is the beginning of the actual network, let’s also define all the constants we’ll need for the network. We call these “hyperparameters,” as they define how the network looks and trains:"
   ]
  },
  {
   "cell_type": "code",
   "execution_count": 19,
   "id": "076badbb",
   "metadata": {},
   "outputs": [],
   "source": [
    "# Hyperparameters\n",
    "\n",
    "# The number of dimensions used to store data passed between recurrent layers in the network.\n",
    "recurrent_cell_size = 128\n",
    "\n",
    "# The number of dimensions in our word vectorizations.\n",
    "D = 50 \n",
    "\n",
    "# How quickly the network learns. Too high, and we may run into numeric instability \n",
    "# or other issues.\n",
    "learning_rate = 0.005\n",
    "\n",
    "# Dropout probabilities. For a description of dropout and what these probabilities are, \n",
    "# see Entailment with TensorFlow.\n",
    "input_p, output_p = 0.5, 0.5\n",
    "\n",
    "# How many questions we train on at a time.\n",
    "batch_size = 128\n",
    "\n",
    "# Number of passes in episodic memory. We'll get to this later.\n",
    "passes = 4\n",
    "\n",
    "# Feed Forward layer sizes: the number of dimensions used to store data passed from feed-forward layers.\n",
    "ff_hidden_size = 256\n",
    "\n",
    "weight_decay = 0.00000001\n",
    "# The strength of our regularization. Increase to encourage sparsity in episodic memory, \n",
    "# but makes training slower. Don't make this larger than leraning_rate.\n",
    "\n",
    "training_iterations_count = 400000\n",
    "# How many questions the network trains on each time it is trained. \n",
    "# Some questions are counted multiple times.\n",
    "\n",
    "display_step = 100\n",
    "# How many iterations of training occur before each validation check."
   ]
  },
  {
   "cell_type": "markdown",
   "id": "7aa593b2",
   "metadata": {},
   "source": [
    "With the hyperparameters out of the way, let’s describe the network structure. The structure of this network is split loosely into four modules and is described in Ask Me Anything: Dynamic Memory Networks for Natural Language Processing.\n",
    "\n",
    "The network is designed around having a recurrent layer’s memory be set dynamically, based on other information in the text, hence the name dynamic memory network (DMN). DMNs are loosely based on an understanding of how a human tries to answer a reading-comprehension-type question. The person gets a chance, first of all, to read the context and create memories of the facts inside. With those facts in mind, they then read the question, and re-examine the context specifically searching for the answer to that question, comparing the question to each of the facts.\n",
    "\n",
    "Sometimes, one fact guides us to another. In the bAbI data set, the network might want to find the location of a football. It might search for sentences about the football to find that John was the last person to touch the football, then search for sentences about John to find that John had been in both the bedroom and the hallway. Once it realizes that John had been last in the hallway, it can then answer the question and confidently say that the football is in the hallway."
   ]
  },
  {
   "cell_type": "code",
   "execution_count": 20,
   "id": "c66e83c3",
   "metadata": {},
   "outputs": [
    {
     "name": "stdout",
     "output_type": "stream",
     "text": [
      "WARNING:tensorflow:From C:\\Users\\jimmc\\AppData\\Local\\Temp\\ipykernel_19188\\3784644438.py:24: dynamic_rnn (from tensorflow.python.ops.rnn) is deprecated and will be removed in a future version.\n",
      "Instructions for updating:\n",
      "Please use `keras.layers.RNN(cell)`, which is equivalent to this API\n",
      "WARNING:tensorflow:From C:\\Users\\jimmc\\Documents\\UCSD_Bootcamp\\oreilly_QandA_example\\.env\\lib\\site-packages\\keras\\layers\\rnn\\legacy_cells.py:588: calling Constant.__init__ (from tensorflow.python.ops.init_ops) with dtype is deprecated and will be removed in a future version.\n",
      "Instructions for updating:\n",
      "Call initializer instance with the dtype argument instead of passing it to the constructor\n",
      "WARNING:tensorflow:From C:\\Users\\jimmc\\Documents\\UCSD_Bootcamp\\oreilly_QandA_example\\.env\\lib\\site-packages\\keras\\layers\\rnn\\legacy_cells.py:602: calling Zeros.__init__ (from tensorflow.python.ops.init_ops) with dtype is deprecated and will be removed in a future version.\n",
      "Instructions for updating:\n",
      "Call initializer instance with the dtype argument instead of passing it to the constructor\n"
     ]
    },
    {
     "name": "stderr",
     "output_type": "stream",
     "text": [
      "C:\\Users\\jimmc\\AppData\\Local\\Temp\\ipykernel_19188\\3784644438.py:15: UserWarning: `tf.nn.rnn_cell.GRUCell` is deprecated and will be removed in a future version. This class is equivalent as `tf.keras.layers.GRUCell`, and will be replaced by that in Tensorflow 2.0.\n",
      "  input_gru = tf.compat.v1.nn.rnn_cell.GRUCell(recurrent_cell_size)\n"
     ]
    }
   ],
   "source": [
    "# Input Module\n",
    "\n",
    "# Context: A [batch_size, maximum_context_length, word_vectorization_dimensions] tensor \n",
    "# that contains all the context information.\n",
    "context = tf.placeholder(tf.float32, [None, None, D], \"context\")  \n",
    "context_placeholder = context # I use context as a variable name later on\n",
    "\n",
    "# input_sentence_endings: A [batch_size, maximum_sentence_count, 2] tensor that \n",
    "# contains the locations of the ends of sentences. \n",
    "input_sentence_endings = tf.placeholder(tf.int32, [None, None, 2], \"sentence\")\n",
    "\n",
    "# recurrent_cell_size: the number of hidden units in recurrent layers.\n",
    "#input_gru = tf.contrib.rnn.GRUCell(recurrent_cell_size)   #this code doesn't work in Version 2 tensoflow\n",
    "#input_gru = tf.nn.rnn_cell.GRUCell(recurrent_cell_size) \n",
    "input_gru = tf.compat.v1.nn.rnn_cell.GRUCell(recurrent_cell_size)\n",
    "\n",
    "# input_p: The probability of maintaining a specific hidden input unit.\n",
    "# Likewise, output_p is the probability of maintaining a specific hidden output unit.\n",
    "gru_drop = tf.compat.v1.nn.rnn_cell.DropoutWrapper(input_gru, input_p, output_p)\n",
    "\n",
    "\n",
    "# dynamic_rnn also returns the final internal state. We don't need that, and can\n",
    "# ignore the corresponding output (_). \n",
    "input_module_outputs, _ = tf.nn.dynamic_rnn(gru_drop, context, dtype=tf.float32, scope = \"input_module\")\n",
    "\n",
    "# cs: the facts gathered from the context.\n",
    "cs = tf.gather_nd(input_module_outputs, input_sentence_endings)\n",
    "# to use every word as a fact, useful for tasks with one-sentence contexts\n",
    "s = input_module_outputs"
   ]
  },
  {
   "cell_type": "markdown",
   "id": "212939b3",
   "metadata": {},
   "source": [
    "The question module is the second module, and arguably the simplest. It consists of another GRU pass, this time over the text of the question. Instead of pieces of evidence, we can simply pass forward the end state, as the question is guaranteed by the data set to be one sentence long."
   ]
  },
  {
   "cell_type": "code",
   "execution_count": 21,
   "id": "20b0536b",
   "metadata": {},
   "outputs": [],
   "source": [
    "# Question Module\n",
    "\n",
    "# query: A [batch_size, maximum_question_length, word_vectorization_dimensions] tensor \n",
    "#  that contains all of the questions.\n",
    "\n",
    "query = tf.placeholder(tf.float32, [None, None, D], \"query\")\n",
    "\n",
    "# input_query_lengths: A [batch_size, 2] tensor that contains question length information. \n",
    "# input_query_lengths[:,1] has the actual lengths; input_query_lengths[:,0] is a simple range() \n",
    "# so that it plays nice with gather_nd.\n",
    "input_query_lengths = tf.placeholder(tf.int32, [None, 2], \"query_lengths\")\n",
    "\n",
    "question_module_outputs, _ = tf.nn.dynamic_rnn(gru_drop, query, dtype=tf.float32, \n",
    "                                               scope = tf.VariableScope(True, \"input_module\"))\n",
    "\n",
    "# q: the question states. A [batch_size, recurrent_cell_size] tensor.\n",
    "q = tf.gather_nd(question_module_outputs, input_query_lengths)"
   ]
  },
  {
   "cell_type": "markdown",
   "id": "8208a84a",
   "metadata": {},
   "source": [
    "Our third module, the episodic memory module, is where things begin to get interesting. It uses attention to do multiple passes, each pass consisting of GRUs iterating over the input. Each iteration inside each pass has a weighted update on current memory, based on how much attention is being paid to the corresponding fact at that time."
   ]
  },
  {
   "cell_type": "markdown",
   "id": "c54e30fd",
   "metadata": {},
   "source": [
    "Attention in neural networks was originally designed for image analysis, especially for cases where parts of the image are far more relevant than others. Networks use attention to determine the best locations in which to do further analysis when performing tasks, such as finding locations of objects in images, tracking objects that move between images, facial recognition, or other tasks that benefit from finding the most pertinent information for the task within the image.\n",
    "\n",
    "The main problem is that attention, or at least hard attention (which attends to exactly one input location) is not easily optimizable. As with most other neural networks, our optimization scheme is to compute the derivative of a loss function with respect to our inputs and weights, and hard attention is simply not differentiable, thanks to its binary nature. Instead, we are forced to use the real-valued version known as “soft attention,” which combines all the input locations that could be attended to using some form of weighting. Thankfully, the weighting is fully differentiable and can be trained normally. While it is possible to learn hard attention, it’s much more difficult and sometimes performs worse than soft attention. Thus, we’ll stick with soft attention for this model. Don’t worry about coding the derivative; TensorFlow’s optimization schemes do it for us.\n",
    "\n",
    "We calculate attention in this model by constructing similarity measures between each fact, our current memory, and the original question. (Note that this is different from normal attention, which only constructs similarity measures between facts and current memory.) We pass the results through a two-layer feed-forward network to get an attention constant for each fact. We then modify the memory by doing a weighted pass with a GRU over the input facts (weighted by the corresponding attention constant). In order to avoid adding incorrect information into memory when the context is shorter than the full length of the matrix, we create a mask for which facts exist and don’t attend at all (i.e., retain the same memory) when the fact does not exist.\n",
    "\n",
    "Another notable aspect is that the attention mask is nearly always wrapped around a representation used by a layer. For images, that wrapping is most likely to happen around a convolutional layer (most likely one with a direct mapping to locations in the image), and for natural language, that wrapping is most likely to happen around a recurrent layer. Wrapping attention around a feed-forward layer, while technically possible, is usually not useful—at least not in a way that can’t be more easily simulated by further feed-forward layers."
   ]
  },
  {
   "cell_type": "code",
   "execution_count": 22,
   "id": "f74b2a7b",
   "metadata": {},
   "outputs": [
    {
     "name": "stdout",
     "output_type": "stream",
     "text": [
      "WARNING:tensorflow:From C:\\Users\\jimmc\\Documents\\UCSD_Bootcamp\\oreilly_QandA_example\\.env\\lib\\site-packages\\tensorflow\\python\\util\\dispatch.py:1176: calling count_nonzero (from tensorflow.python.ops.math_ops) with keep_dims is deprecated and will be removed in a future version.\n",
      "Instructions for updating:\n",
      "keep_dims is deprecated, use keepdims instead\n"
     ]
    },
    {
     "name": "stderr",
     "output_type": "stream",
     "text": [
      "C:\\Users\\jimmc\\AppData\\Local\\Temp\\ipykernel_19188\\3151297477.py:85: UserWarning: `tf.nn.rnn_cell.GRUCell` is deprecated and will be removed in a future version. This class is equivalent as `tf.keras.layers.GRUCell`, and will be replaced by that in Tensorflow 2.0.\n",
      "  attention_gru = tf.compat.v1.nn.rnn_cell.GRUCell(recurrent_cell_size)\n"
     ]
    }
   ],
   "source": [
    "# Episodic Memory\n",
    "\n",
    "# make sure the current memory (i.e. the question vector) is broadcasted along the facts dimension\n",
    "size = tf.stack([tf.constant(1),tf.shape(cs)[1], tf.constant(1)])\n",
    "re_q = tf.tile(tf.reshape(q,[-1,1,recurrent_cell_size]),size)\n",
    "\n",
    "\n",
    "# Final output for attention, needs to be 1 in order to create a mask\n",
    "output_size = 1 \n",
    "\n",
    "# Weights and biases\n",
    "attend_init = tf.random_normal_initializer(stddev=0.1)\n",
    "w_1 = tf.get_variable(\"attend_w1\", [1,recurrent_cell_size*7, recurrent_cell_size], \n",
    "                      tf.float32, initializer = attend_init)\n",
    "w_2 = tf.get_variable(\"attend_w2\", [1,recurrent_cell_size, output_size], \n",
    "                      tf.float32, initializer = attend_init)\n",
    "\n",
    "b_1 = tf.get_variable(\"attend_b1\", [1, recurrent_cell_size], \n",
    "                      tf.float32, initializer = attend_init)\n",
    "b_2 = tf.get_variable(\"attend_b2\", [1, output_size], \n",
    "                      tf.float32, initializer = attend_init)\n",
    "\n",
    "# Regulate all the weights and biases\n",
    "tf.add_to_collection(tf.GraphKeys.REGULARIZATION_LOSSES, tf.nn.l2_loss(w_1))\n",
    "tf.add_to_collection(tf.GraphKeys.REGULARIZATION_LOSSES, tf.nn.l2_loss(b_1))\n",
    "tf.add_to_collection(tf.GraphKeys.REGULARIZATION_LOSSES, tf.nn.l2_loss(w_2))\n",
    "tf.add_to_collection(tf.GraphKeys.REGULARIZATION_LOSSES, tf.nn.l2_loss(b_2))\n",
    "\n",
    "def attention(c, mem, existing_facts):\n",
    "    \"\"\"\n",
    "    Custom attention mechanism.\n",
    "    c: A [batch_size, maximum_sentence_count, recurrent_cell_size] tensor \n",
    "        that contains all the facts from the contexts.\n",
    "    mem: A [batch_size, maximum_sentence_count, recurrent_cell_size] tensor that \n",
    "        contains the current memory. It should be the same memory for all facts for accurate results.\n",
    "    existing_facts: A [batch_size, maximum_sentence_count, 1] tensor that \n",
    "        acts as a binary mask for which facts exist and which do not.\n",
    "\n",
    "    \"\"\"\n",
    "    with tf.variable_scope(\"attending\") as scope:\n",
    "        # attending: The metrics by which we decide what to attend to.\n",
    "        attending = tf.concat([c, mem, re_q, c * re_q,  c * mem, (c-re_q)**2, (c-mem)**2], 2)\n",
    "\n",
    "        # m1: First layer of multiplied weights for the feed-forward network. \n",
    "        #     We tile the weights in order to manually broadcast, since tf.matmul does not\n",
    "        #     automatically broadcast batch matrix multiplication as of TensorFlow 1.2.\n",
    "        m1 = tf.matmul(attending * existing_facts, \n",
    "                       tf.tile(w_1, tf.stack([tf.shape(attending)[0],1,1]))) * existing_facts\n",
    "        # bias_1: A masked version of the first feed-forward layer's bias\n",
    "        #     over only existing facts.\n",
    "\n",
    "        bias_1 = b_1 * existing_facts\n",
    "\n",
    "        # tnhan: First nonlinearity. In the original paper, this is a tanh nonlinearity; \n",
    "        #        choosing relu was a design choice intended to avoid issues with \n",
    "        #        low gradient magnitude when the tanh returned values close to 1 or -1. \n",
    "        tnhan = tf.nn.relu(m1 + bias_1)\n",
    "\n",
    "        # m2: Second layer of multiplied weights for the feed-forward network. \n",
    "        #     Still tiling weights for the same reason described in m1's comments.\n",
    "        m2 = tf.matmul(tnhan, tf.tile(w_2, tf.stack([tf.shape(attending)[0],1,1])))\n",
    "\n",
    "        # bias_2: A masked version of the second feed-forward layer's bias.\n",
    "        bias_2 = b_2 * existing_facts\n",
    "\n",
    "        # norm_m2: A normalized version of the second layer of weights, which is used \n",
    "        #     to help make sure the softmax nonlinearity doesn't saturate.\n",
    "        norm_m2 = tf.nn.l2_normalize(m2 + bias_2, -1)\n",
    "\n",
    "        # softmaxable: A hack in order to use sparse_softmax on an otherwise dense tensor. \n",
    "        #     We make norm_m2 a sparse tensor, then make it dense again after the operation.\n",
    "        softmax_idx = tf.where(tf.not_equal(norm_m2, 0))[:,:-1]\n",
    "        softmax_gather = tf.gather_nd(norm_m2[...,0], softmax_idx)\n",
    "        softmax_shape = tf.shape(norm_m2, out_type=tf.int64)[:-1]\n",
    "        softmaxable = tf.SparseTensor(softmax_idx, softmax_gather, softmax_shape)\n",
    "        return tf.expand_dims(tf.sparse_tensor_to_dense(tf.sparse_softmax(softmaxable)),-1)\n",
    "\n",
    "# facts_0s: a [batch_size, max_facts_length, 1] tensor \n",
    "#     whose values are 1 if the corresponding fact exists and 0 if not.\n",
    "facts_0s = tf.cast(tf.count_nonzero(input_sentence_endings[:,:,-1:],-1,keep_dims=True),tf.float32)\n",
    "\n",
    "\n",
    "with tf.variable_scope(\"Episodes\") as scope:\n",
    "    #attention_gru = tf.contrib.rnn.GRUCell(recurrent_cell_size)\n",
    "    attention_gru = tf.compat.v1.nn.rnn_cell.GRUCell(recurrent_cell_size)\n",
    "    # memory: A list of all tensors that are the (current or past) memory state \n",
    "    #   of the attention mechanism.\n",
    "    memory = [q]\n",
    "\n",
    "    # attends: A list of all tensors that represent what the network attends to.\n",
    "    attends = []\n",
    "    for a in range(passes):\n",
    "        # attention mask\n",
    "        attend_to = attention(cs, tf.tile(tf.reshape(memory[-1],[-1,1,recurrent_cell_size]),size),\n",
    "                              facts_0s)\n",
    "\n",
    "        # Inverse attention mask, for what's retained in the state.\n",
    "        retain = 1-attend_to\n",
    "\n",
    "        # GRU pass over the facts, according to the attention mask.\n",
    "        while_valid_index = (lambda state, index: index < tf.shape(cs)[1])\n",
    "        update_state = (lambda state, index: (attend_to[:,index,:] * \n",
    "                                                 attention_gru(cs[:,index,:], state)[0] + \n",
    "                                                 retain[:,index,:] * state))\n",
    "        # start loop with most recent memory and at the first index\n",
    "        memory.append(tuple(tf.while_loop(while_valid_index,\n",
    "                          (lambda state, index: (update_state(state,index),index+1)),\n",
    "                           loop_vars = [memory[-1], 0]))[0]) \n",
    "\n",
    "        attends.append(attend_to)\n",
    "\n",
    "        # Reuse variables so the GRU pass uses the same variables every pass.\n",
    "        scope.reuse_variables()"
   ]
  },
  {
   "cell_type": "markdown",
   "id": "25b5f9d3",
   "metadata": {},
   "source": [
    "The final module is the answer module, which regresses from the question and episodic memory modules’ outputs using a fully connected layer to a “final result” word vector, and the word in the context that is closest in distance to that result is our final output (to guarantee the result is an actual word). We calculate the closest word by creating a “score” for each word, which indicates the final result’s distance from the word. While you can design an answer module that can return multiple words, it is not needed for the bAbI tasks we attempt in this article."
   ]
  },
  {
   "cell_type": "code",
   "execution_count": 23,
   "id": "e0090d0b",
   "metadata": {},
   "outputs": [],
   "source": [
    "# Answer Module\n",
    "\n",
    "# a0: Final memory state. (Input to answer module)\n",
    "a0 = tf.concat([memory[-1], q], -1)\n",
    "\n",
    "# fc_init: Initializer for the final fully connected layer's weights.\n",
    "fc_init = tf.random_normal_initializer(stddev=0.1) \n",
    "\n",
    "with tf.variable_scope(\"answer\"):\n",
    "    # w_answer: The final fully connected layer's weights.\n",
    "    w_answer = tf.get_variable(\"weight\", [recurrent_cell_size*2, D], \n",
    "                               tf.float32, initializer = fc_init)\n",
    "    # Regulate the fully connected layer's weights\n",
    "    tf.add_to_collection(tf.GraphKeys.REGULARIZATION_LOSSES, \n",
    "                     tf.nn.l2_loss(w_answer)) \n",
    "\n",
    "    # The regressed word. This isn't an actual word yet; \n",
    "    #    we still have to find the closest match.\n",
    "    logit = tf.expand_dims(tf.matmul(a0, w_answer),1)\n",
    "\n",
    "    # Make a mask over which words exist.\n",
    "    with tf.variable_scope(\"ending\"):\n",
    "        all_ends = tf.reshape(input_sentence_endings, [-1,2])\n",
    "        range_ends = tf.range(tf.shape(all_ends)[0])\n",
    "        ends_indices = tf.stack([all_ends[:,0],range_ends], axis=1)\n",
    "        ind = tf.reduce_max(tf.scatter_nd(ends_indices, all_ends[:,1],\n",
    "                                          [tf.shape(q)[0], tf.shape(all_ends)[0]]),\n",
    "                            axis=-1)\n",
    "        range_ind = tf.range(tf.shape(ind)[0])\n",
    "        mask_ends = tf.cast(tf.scatter_nd(tf.stack([ind, range_ind], axis=1), \n",
    "                                          tf.ones_like(range_ind), [tf.reduce_max(ind)+1, \n",
    "                                                                    tf.shape(ind)[0]]), bool)\n",
    "        # A bit of a trick. With the locations of the ends of the mask (the last periods in \n",
    "        #  each of the contexts) as 1 and the rest as 0, we can scan with exclusive or \n",
    "        #  (starting from all 1). For each context in the batch, this will result in 1s \n",
    "        #  up until the marker (the location of that last period) and 0s afterwards.\n",
    "        mask = tf.scan(tf.logical_xor,mask_ends, tf.ones_like(range_ind, dtype=bool))\n",
    "\n",
    "    # We score each possible word inversely with their Euclidean distance to the regressed word.\n",
    "    #  The highest score (lowest distance) will correspond to the selected word.\n",
    "    logits = -tf.reduce_sum(tf.square(context*tf.transpose(tf.expand_dims(\n",
    "                    tf.cast(mask, tf.float32),-1),[1,0,2]) - logit), axis=-1)"
   ]
  },
  {
   "cell_type": "markdown",
   "id": "021d9f23",
   "metadata": {},
   "source": [
    "Gradient descent is the default optimizer for a neural network. Its goal is to decrease the network’s “loss,” which is a measure of how poorly the network performs. It does this by finding the derivative of loss with respect to each of the weights under the current input, and then “descends” the weights so they’ll reduce the loss. Most of the time, this works well enough, but often it’s not ideal. There are various schemes that use “momentum” or other approximations of the more direct path to the optimal weights. One of the most useful of these optimization schemes is known as adaptive moment estimation, or Adam.\n",
    "\n",
    "Adam estimates the first two moments of the gradient by calculating an exponentially decaying average of past iterations’ gradients and squared gradients, which correspond to the estimated mean and the estimated variance of these gradients. The calculations use two additional hyperparameters to indicate how quickly the averages decay with the addition of new information. The averages are initialized as zero, which leads to bias toward zero, especially when those hyperparameters near one.\n",
    "\n",
    "In order to counteract that bias, Adam computes bias-corrected moment estimates that are greater in magnitude than the originals. The corrected estimates are then used to update the weights throughout the network. The combination of these estimates make Adam one of the best choices overall for optimization, especially for complex networks. This applies doubly to data that is very sparse, such as is common in natural language processing tasks.\n",
    "\n",
    "In TensorFlow, we can use Adam by creating a tf.train.AdamOptimizer."
   ]
  },
  {
   "cell_type": "code",
   "execution_count": 24,
   "id": "29bac7df",
   "metadata": {},
   "outputs": [
    {
     "name": "stdout",
     "output_type": "stream",
     "text": [
      "WARNING:tensorflow:From C:\\Users\\jimmc\\Documents\\UCSD_Bootcamp\\oreilly_QandA_example\\.env\\lib\\site-packages\\tensorflow\\python\\util\\dispatch.py:1176: calling reduce_max_v1 (from tensorflow.python.ops.math_ops) with keep_dims is deprecated and will be removed in a future version.\n",
      "Instructions for updating:\n",
      "keep_dims is deprecated, use keepdims instead\n"
     ]
    }
   ],
   "source": [
    "# Training\n",
    "\n",
    "# gold_standard: The real answers.\n",
    "gold_standard = tf.placeholder(tf.float32, [None, 1, D], \"answer\")\n",
    "with tf.variable_scope('accuracy'):\n",
    "    eq = tf.equal(context, gold_standard)\n",
    "    corrbool = tf.reduce_all(eq,-1)\n",
    "    logloc = tf.reduce_max(logits, -1, keep_dims = True)\n",
    "    # locs: A boolean tensor that indicates where the score \n",
    "    #  matches the minimum score. This happens on multiple dimensions, \n",
    "    #  so in the off chance there's one or two indexes that match \n",
    "    #  we make sure it matches in all indexes.\n",
    "    locs = tf.equal(logits, logloc)\n",
    "\n",
    "    # correctsbool: A boolean tensor that indicates for which \n",
    "    #   words in the context the score always matches the minimum score.\n",
    "    correctsbool = tf.reduce_any(tf.logical_and(locs, corrbool), -1)\n",
    "    # corrects: A tensor that is simply correctsbool cast to floats.\n",
    "    corrects = tf.where(correctsbool, tf.ones_like(correctsbool, dtype=tf.float32), \n",
    "                        tf.zeros_like(correctsbool,dtype=tf.float32))\n",
    "\n",
    "    # corr: corrects, but for the right answer instead of our selected answer.\n",
    "    corr = tf.where(corrbool, tf.ones_like(corrbool, dtype=tf.float32), \n",
    "                        tf.zeros_like(corrbool,dtype=tf.float32))\n",
    "with tf.variable_scope(\"loss\"):\n",
    "    # Use sigmoid cross entropy as the base loss, \n",
    "    #  with our distances as the relative probabilities. There are\n",
    "    #  multiple correct labels, for each location of the answer word within the context.\n",
    "    loss = tf.nn.sigmoid_cross_entropy_with_logits(logits = tf.nn.l2_normalize(logits,-1),\n",
    "                                                   labels = corr)\n",
    "\n",
    "    # Add regularization losses, weighted by weight_decay.\n",
    "    total_loss = tf.reduce_mean(loss) + weight_decay * tf.add_n(\n",
    "        tf.get_collection(tf.GraphKeys.REGULARIZATION_LOSSES))\n",
    "\n",
    "# TensorFlow's default implementation of the Adam optimizer works. We can adjust more than \n",
    "#  just the learning rate, but it's not necessary to find a very good optimum.\n",
    "optimizer = tf.train.AdamOptimizer(learning_rate)\n",
    "\n",
    "# Once we have an optimizer, we ask it to minimize the loss \n",
    "#   in order to work towards the proper training.\n",
    "opt_op = optimizer.minimize(total_loss)"
   ]
  },
  {
   "cell_type": "code",
   "execution_count": 25,
   "id": "4d242c85",
   "metadata": {},
   "outputs": [],
   "source": [
    "# Initialize variables\n",
    "init = tf.global_variables_initializer()\n",
    "\n",
    "# Launch the TensorFlow session\n",
    "sess = tf.Session()\n",
    "sess.run(init)"
   ]
  },
  {
   "cell_type": "markdown",
   "id": "6f32a05b",
   "metadata": {},
   "source": [
    "With everything set and ready, we can begin batching our training data to train our network! While the system is training, we should check on how well the network is doing in terms of accuracy. We do this with a validation set, which is taken from testing data so it has no overlap with the training data.\n",
    "\n",
    "Using a validation set based on testing data allows us to get a better sense of how well the network can generalize what it learns and apply it to other contexts. If we validate on the training data, the network may overfit—in other words, learn specific examples and memorize the answers to them, which doesn’t help the network answer new questions.\n",
    "\n",
    "If you installed TQDM, you can use it to keep track of how long the network has been training and receive an estimate of when training will finish. You can stop the training at any time if you feel the results are good enough by interrupting the Jupyter Notebook kernel."
   ]
  },
  {
   "cell_type": "code",
   "execution_count": 26,
   "id": "45d30723",
   "metadata": {},
   "outputs": [],
   "source": [
    "def prep_batch(batch_data, more_data = False):\n",
    "    \"\"\"\n",
    "        Prepare all the preproccessing that needs to be done on a batch-by-batch basis.\n",
    "    \"\"\"\n",
    "    context_vec, sentence_ends, questionvs, spt, context_words, cqas, answervs, _ = zip(*batch_data)\n",
    "    ends = list(sentence_ends)\n",
    "    maxend = max(map(len, ends))\n",
    "    aends = np.zeros((len(ends), maxend))\n",
    "    for index, i in enumerate(ends):\n",
    "        for indexj, x in enumerate(i):\n",
    "            aends[index, indexj] = x-1\n",
    "    new_ends = np.zeros(aends.shape+(2,))\n",
    "\n",
    "    for index, x in np.ndenumerate(aends):\n",
    "        new_ends[index+(0,)] = index[0]\n",
    "        new_ends[index+(1,)] = x\n",
    "\n",
    "    contexts = list(context_vec)\n",
    "    max_context_length = max([len(x) for x in contexts])\n",
    "    contextsize = list(np.array(contexts[0]).shape)\n",
    "    contextsize[0] = max_context_length\n",
    "    final_contexts = np.zeros([len(contexts)]+contextsize)\n",
    "\n",
    "    contexts = [np.array(x) for x in contexts]\n",
    "    for i, context in enumerate(contexts):\n",
    "        final_contexts[i,0:len(context),:] = context\n",
    "    max_query_length = max(len(x) for x in questionvs)\n",
    "    querysize = list(np.array(questionvs[0]).shape)\n",
    "    querysize[:1] = [len(questionvs),max_query_length]\n",
    "    queries = np.zeros(querysize)\n",
    "    querylengths = np.array(list(zip(range(len(questionvs)),[len(q)-1 for q in questionvs])))\n",
    "    questions = [np.array(q) for q in questionvs]\n",
    "    for i, question in enumerate(questions):\n",
    "        queries[i,0:len(question),:] = question\n",
    "    data = {context_placeholder: final_contexts, input_sentence_endings: new_ends, \n",
    "                            query:queries, input_query_lengths:querylengths, gold_standard: answervs}\n",
    "    return (data, context_words, cqas) if more_data else data"
   ]
  },
  {
   "cell_type": "code",
   "execution_count": 27,
   "id": "30ce6c76",
   "metadata": {},
   "outputs": [
    {
     "name": "stdout",
     "output_type": "stream",
     "text": [
      "Iter 0.0, Minibatch Loss=  0.67451864 Accuracy=  0.0\n",
      "Iter 100.0, Minibatch Loss=  0.6735304 Accuracy=  0.17734376\n",
      "Iter 200.0, Minibatch Loss=  0.67349577 Accuracy=  0.37890625\n"
     ]
    }
   ],
   "source": [
    "# Use TQDM if installed\n",
    "tqdm_installed = False\n",
    "try:\n",
    "    from tqdm import tqdm\n",
    "    tqdm_installed = True\n",
    "except:\n",
    "    pass\n",
    "\n",
    "\n",
    "# Prepare validation set\n",
    "batch = np.random.randint(final_test_data.shape[0], size=batch_size*10)\n",
    "batch_data = final_test_data[batch]\n",
    "\n",
    "validation_set, val_context_words, val_cqas = prep_batch(batch_data, True)\n",
    "\n",
    "# training_iterations_count: The number of data pieces to train on in total\n",
    "# batch_size: The number of data pieces per batch\n",
    "def train(iterations, batch_size):\n",
    "    training_iterations = range(0,iterations,batch_size)\n",
    "    if tqdm_installed:\n",
    "        # Add a progress bar if TQDM is installed\n",
    "        training_iterations = tqdm(training_iterations)\n",
    "\n",
    "    wordz = []\n",
    "    for j in training_iterations:\n",
    "\n",
    "        batch = np.random.randint(final_train_data.shape[0], size=batch_size)\n",
    "        batch_data = final_train_data[batch]\n",
    "\n",
    "        sess.run([opt_op], feed_dict=prep_batch(batch_data))\n",
    "        if (j/batch_size) % display_step == 0:\n",
    "\n",
    "            # Calculate batch accuracy\n",
    "            acc, ccs, tmp_loss, log, con, cor, loc  = sess.run([corrects, cs, total_loss, logit,\n",
    "                                                                context_placeholder,corr, locs], \n",
    "                                                               feed_dict=validation_set)\n",
    "            # Display results\n",
    "            print(\"Iter \" + str(j/batch_size) + \", Minibatch Loss= \",tmp_loss,\n",
    "                  \"Accuracy= \", np.mean(acc))\n",
    "train(30000,batch_size) # Small amount of training for preliminary results"
   ]
  },
  {
   "cell_type": "markdown",
   "id": "4fd7e133",
   "metadata": {},
   "source": [
    "After a little bit of training, let’s peek inside and see what kinds of answers we’re getting from the network. In the diagrams below, we visualize attention over each of the episodes (rows) for all the sentences (columns) in our context; darker colors represent more attention paid to that sentence on that episode.\n",
    "\n",
    "You should see attention change between at least two episodes for each question, but sometimes attention will be able to find the answer within one, and sometimes it will take all four episodes. If the attention appears to be blank, it may be saturating and paying attention to everything at once. In that case, you can try training with a higher weight_decay in order to discourage that from happening. Later on in training, saturation becomes extremely common."
   ]
  },
  {
   "cell_type": "code",
   "execution_count": 29,
   "id": "8f324dc2",
   "metadata": {},
   "outputs": [
    {
     "data": {
      "image/png": "[encoded data removed]",
      "text/plain": [
       "<Figure size 640x480 with 1 Axes>"
      ]
     },
     "metadata": {},
     "output_type": "display_data"
    },
    {
     "data": {
      "image/png": "[encoded data removed]",
      "text/plain": [
       "<Figure size 640x480 with 1 Axes>"
      ]
     },
     "metadata": {},
     "output_type": "display_data"
    },
    {
     "data": {
      "image/png": "[encoded data removed]",
      "text/plain": [
       "<Figure size 640x480 with 1 Axes>"
      ]
     },
     "metadata": {},
     "output_type": "display_data"
    },
    {
     "data": {
      "image/png": "[encoded data removed]",
      "text/plain": [
       "<Figure size 640x480 with 1 Axes>"
      ]
     },
     "metadata": {},
     "output_type": "display_data"
    },
    {
     "data": {
      "image/png": "[encoded data removed]",
      "text/plain": [
       "<Figure size 640x480 with 1 Axes>"
      ]
     },
     "metadata": {},
     "output_type": "display_data"
    }
   ],
   "source": [
    "ancr = sess.run([corrbool,locs, total_loss, logits, facts_0s, w_1]+attends+\n",
    "                [query, cs, question_module_outputs],feed_dict=validation_set)\n",
    "a = ancr[0]\n",
    "n = ancr[1]\n",
    "cr = ancr[2]\n",
    "attenders = np.array(ancr[6:-3]) \n",
    "faq = np.sum(ancr[4], axis=(-1,-2)) # Number of facts in each context\n",
    "\n",
    "limit = 5\n",
    "for question in range(min(limit, batch_size)):\n",
    "    plt.yticks(range(passes,0,-1))\n",
    "    plt.ylabel(\"Episode\")\n",
    "    plt.xlabel(\"Question \"+str(question+1))\n",
    "    pltdata = attenders[:,question,:int(faq[question]),0] \n",
    "    # Display only information about facts that actually exist, all others are 0\n",
    "    pltdata = (pltdata - pltdata.mean()) / ((pltdata.max() - pltdata.min() + 0.001)) * 256\n",
    "    plt.pcolor(pltdata, cmap=plt.cm.BuGn, alpha=0.7)\n",
    "    plt.show()\n",
    "\n",
    "#print(list(map((lambda x: x.shape),ancr[3:])), new_ends.shape)"
   ]
  },
  {
   "cell_type": "markdown",
   "id": "9a5b81c2",
   "metadata": {},
   "source": [
    "In order to see what the answers for the above questions were, we can use the location of our distance score in the context as an index and see what word is at that index."
   ]
  },
  {
   "cell_type": "code",
   "execution_count": 30,
   "id": "f1eb541c",
   "metadata": {},
   "outputs": [
    {
     "name": "stdout",
     "output_type": "stream",
     "text": [
      "TEXT:  bill picked up the milk there . bill dropped the milk . fred took the milk there . jeff travelled to the office . fred picked up the football there . fred passed the football to bill . bill gave the football to fred . fred travelled to the bedroom .\n",
      "QUESTION:  who gave the football ?\n",
      "RESPONSE:  fred Incorrect\n",
      "EXPECTED:  bill\n",
      "\n",
      "TEXT:  fred travelled to the garden . jeff took the milk there . bill journeyed to the kitchen . jeff passed the milk to bill . bill gave the milk to jeff . jeff passed the milk to bill .\n",
      "QUESTION:  who gave the milk ?\n",
      "RESPONSE:  fred Incorrect\n",
      "EXPECTED:  jeff\n",
      "\n",
      "TEXT:  jeff travelled to the bedroom . mary took the milk there . mary moved to the hallway . jeff journeyed to the office . mary picked up the football there . fred journeyed to the kitchen . fred got the apple there . fred put down the apple . fred journeyed to the bedroom . jeff travelled to the garden . jeff travelled to the bedroom . bill journeyed to the bathroom . fred went back to the office . bill went back to the hallway . mary gave the football to bill . bill passed the football to mary . jeff moved to the garden . mary passed the football to bill .\n",
      "QUESTION:  who gave the football ?\n",
      "RESPONSE:  mary Correct\n",
      "EXPECTED:  mary\n",
      "\n",
      "TEXT:  bill journeyed to the garden . mary went to the office . jeff grabbed the milk there . jeff passed the milk to bill . bill dropped the milk . fred travelled to the kitchen . mary moved to the bathroom . jeff moved to the hallway .\n",
      "QUESTION:  what did jeff give to bill ?\n",
      "RESPONSE:  milk Correct\n",
      "EXPECTED:  milk\n",
      "\n",
      "TEXT:  mary went to the office . jeff got the football there . fred moved to the bedroom . bill moved to the hallway . mary went to the hallway . jeff passed the football to mary . jeff travelled to the bedroom . mary went to the bathroom . fred went back to the garden . mary put down the football . mary went back to the bedroom . bill travelled to the bathroom . jeff grabbed the milk there . mary journeyed to the hallway . jeff left the milk . fred moved to the kitchen . fred went back to the office . jeff went to the office . bill went to the kitchen . bill journeyed to the office . mary went to the bathroom . fred went to the garden . jeff journeyed to the bathroom . jeff picked up the football there . jeff put down the football . jeff got the football there . fred went back to the kitchen . jeff handed the football to mary . mary discarded the football . fred moved to the bathroom .\n",
      "QUESTION:  what did jeff give to mary ?\n",
      "RESPONSE:  milk Incorrect\n",
      "EXPECTED:  football\n",
      "\n"
     ]
    },
    {
     "name": "stderr",
     "output_type": "stream",
     "text": [
      "C:\\Users\\jimmc\\AppData\\Local\\Temp\\ipykernel_19188\\171307745.py:11: DeprecationWarning: In future, it will be an error for 'np.bool_' scalars to be interpreted as an index\n",
      "  print (\"RESPONSE: \", cw[i], [\"Correct\", \"Incorrect\"][i!=e])\n"
     ]
    }
   ],
   "source": [
    "# Locations of responses within contexts\n",
    "indices = np.argmax(n,axis=1)\n",
    "\n",
    "# Locations of actual answers within contexts \n",
    "indicesc = np.argmax(a,axis=1)\n",
    "\n",
    "for i,e,cw, cqa in list(zip(indices, indicesc, val_context_words, val_cqas))[:limit]:\n",
    "    ccc = \" \".join(cw)\n",
    "    print(\"TEXT: \",ccc)\n",
    "    print (\"QUESTION: \", \" \".join(cqa[3]))\n",
    "    print (\"RESPONSE: \", cw[i], [\"Correct\", \"Incorrect\"][i!=e])\n",
    "    print(\"EXPECTED: \", cw[e])\n",
    "    print()"
   ]
  },
  {
   "cell_type": "markdown",
   "id": "4bbe6146",
   "metadata": {},
   "source": [
    "Let’s keep training! In order to get good results, you may have to train for a long period of time (on my home desktop, it took about 12 hours), but you should eventually be able to reach very high accuracies (over 90%). Experienced users of Jupyter Notebook should note that at any time, you can interrupt training and still save the progress the network has made so far, as long as you keep the same tf.Session; this is useful if you want to visualize the attention and answers the network is currently giving."
   ]
  },
  {
   "cell_type": "code",
   "execution_count": null,
   "id": "99231927",
   "metadata": {},
   "outputs": [],
   "source": [
    "train(training_iterations_count, batch_size)"
   ]
  },
  {
   "cell_type": "code",
   "execution_count": null,
   "id": "5b2389d3",
   "metadata": {},
   "outputs": [],
   "source": [
    "# Final testing accuracy\n",
    "print(np.mean(sess.run([corrects], feed_dict= prep_batch(final_test_data))[0]))"
   ]
  },
  {
   "cell_type": "markdown",
   "id": "ff8454bb",
   "metadata": {},
   "source": [
    "Once we’re done viewing what our model is returning, we can close the session to free up system resources."
   ]
  },
  {
   "cell_type": "code",
   "execution_count": 31,
   "id": "b3a982b2",
   "metadata": {},
   "outputs": [],
   "source": [
    "sess.close()"
   ]
  },
  {
   "cell_type": "code",
   "execution_count": null,
   "id": "ff6b8cf8",
   "metadata": {},
   "outputs": [],
   "source": []
  }
 ],
 "metadata": {
  "kernelspec": {
   "display_name": "Python 3 (ipykernel)",
   "language": "python",
   "name": "python3"
  },
  "language_info": {
   "codemirror_mode": {
    "name": "ipython",
    "version": 3
   },
   "file_extension": ".py",
   "mimetype": "text/x-python",
   "name": "python",
   "nbconvert_exporter": "python",
   "pygments_lexer": "ipython3",
   "version": "3.8.9"
  }
 },
 "nbformat": 4,
 "nbformat_minor": 5
}
